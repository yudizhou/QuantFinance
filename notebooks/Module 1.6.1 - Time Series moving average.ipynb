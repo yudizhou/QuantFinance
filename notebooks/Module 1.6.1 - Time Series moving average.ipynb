{
 "cells": [
  {
   "cell_type": "markdown",
   "metadata": {},
   "source": [
    "# Introduction to Quantitative Finance\n",
    "\n",
    "Copyright (c) 2019 Python Charmers Pty Ltd, Australia, <https://pythoncharmers.com>. All rights reserved.\n",
    "\n",
    "<img src=\"img/python_charmers_logo.png\" width=\"300\" alt=\"Python Charmers Logo\">\n",
    "\n",
    "Published under the Creative Commons Attribution-NonCommercial 4.0 International (CC BY-NC 4.0) license. See `LICENSE.md` for details.\n",
    "\n",
    "Sponsored by Tibra Global Services, <https://tibra.com>\n",
    "\n",
    "<img src=\"img/tibra_logo.png\" width=\"300\" alt=\"Tibra Logo\">\n",
    "\n",
    "\n",
    "## Module 1.6: Moving average\n",
    "\n",
    "### 1.6.1: Time Series moving average\n",
    "\n",
    "When reviewing how a time series changes (i.e. $\\Delta X_t$), the error itself is normally random (called *white noise*) over time, but may have some dependency on the previous value.\n",
    "\n",
    "For instance, if a stock increases in price one day, this may lead investors to sell their stock, leading to a decreasing (or a return to the mean) on the second day.\n",
    "\n",
    "If we denote a positive $\\epsilon_t$ to be an increase in buying for a given stock at time period $t$, we can model a stock's price change simply using the equation:\n",
    "\n",
    "$\\Delta p_t = \\epsilon_t - 0.5 \\epsilon_{t-1}$\n",
    "\n",
    "That is, the price increases if there is more buying today, with a negative factor if there was more buying yesterday. This type of model is known as a moving average process, specifically one of order 1 (because we are only modelling one time step in the past). We denote this model a $MA(n)$ process for time steps of $n$, and the one above is a $MA(1)$ process because it cares about one step in the past.\n",
    "\n",
    "Note: The process is an MA(1) process whether the coefficient on $\\epsilon_{t-1}$ is positive or negative.\n",
    "\n",
    "More formally, a MA(n) process is:\n",
    "\n",
    "$MA(p) X_t = \\mu + \\epsilon_{t} + \\sum_{i=1}^{p}\\theta_i\\epsilon_{t-i}$\n",
    "\n",
    "Where $\\mu$ is the error term (assumed to be iid) and $\\theta_i$ is a learned parameter in the model (learned, say, from an OLS). The equation for MA(1) is the same, but it is worth noting it, as you'll see the pattern in quite a few places. We'll drop $\\mu$ from the equation, and set $p=1$, giving:\n",
    "\n",
    "$MA(1)X_t = \\epsilon_t + \\theta \\epsilon_{t-1}$\n",
    "\n",
    "Notably, and importantly, $\\epsilon$ is assumed to be independently and identically distributed from a normal distribution with a mean of 0 and a standard deviation (of $\\sigma^2$). This is an important requirement, otherwise the model has other patterns in it that need to be modelled separately.\n",
    "\n",
    "<div class=\"alert alert-warning\">\n",
    "    In the above equation, we used $\\theta$ as the parameter, while our previous models used $\\beta$. It doesn't matter; they are the same thing. The choice here is for two reasons. First, most textbooks use $\\theta$ in this spot. Second, we will combine an MA model with another model later, so we need the different symbols then.\n",
    "</div>\n",
    "\n",
    "<div class=\"alert alert-warning\">\n",
    "    Further, in the example, we modeled the change in some variable. This is not a requirement, as the values $X$ can be any variable, including (but not limited to) the change in value of some process.\n",
    "</div>"
   ]
  },
  {
   "cell_type": "code",
   "execution_count": 1,
   "metadata": {},
   "outputs": [],
   "source": [
    "%run setup.ipy"
   ]
  },
  {
   "cell_type": "code",
   "execution_count": 2,
   "metadata": {},
   "outputs": [],
   "source": [
    "# Generate some random data for our epsilons, remembering they are iid\n",
    "\n",
    "epsilons = np.random.randn(1000)"
   ]
  },
  {
   "cell_type": "code",
   "execution_count": 22,
   "metadata": {},
   "outputs": [],
   "source": [
    "theta = np.array([-0.5])\n",
    "\n",
    "X_t = epsilons[1:] + theta * epsilons[:-1]#+[i*.01 for i in range(len(epsilons)-1)]"
   ]
  },
  {
   "cell_type": "code",
   "execution_count": 23,
   "metadata": {},
   "outputs": [
    {
     "data": {
      "text/plain": [
       "[<matplotlib.lines.Line2D at 0x7f95c872fdd8>]"
      ]
     },
     "execution_count": 23,
     "metadata": {},
     "output_type": "execute_result"
    },
    {
     "data": {
      "image/png": "[encoded data removed]",
      "text/plain": [
       "<Figure size 432x288 with 1 Axes>"
      ]
     },
     "metadata": {
      "needs_background": "light"
     },
     "output_type": "display_data"
    }
   ],
   "source": [
    "plt.plot(X_t)"
   ]
  },
  {
   "cell_type": "code",
   "execution_count": 24,
   "metadata": {},
   "outputs": [],
   "source": [
    "# Fit a MA model. statsmodels doesn't expose this nicely directly, so we use ARMA, and turn \"off\" the AR bit.\n",
    "# We will look at the full ARMA model later"
   ]
  },
  {
   "cell_type": "code",
   "execution_count": 25,
   "metadata": {},
   "outputs": [
    {
     "name": "stderr",
     "output_type": "stream",
     "text": [
      "/Users/yudizhou/opt/anaconda3/envs/tens/lib/python3.6/site-packages/statsmodels/tsa/arima_model.py:472: FutureWarning: \n",
      "statsmodels.tsa.arima_model.ARMA and statsmodels.tsa.arima_model.ARIMA have\n",
      "been deprecated in favor of statsmodels.tsa.arima.model.ARIMA (note the .\n",
      "between arima and model) and\n",
      "statsmodels.tsa.SARIMAX. These will be removed after the 0.12 release.\n",
      "\n",
      "statsmodels.tsa.arima.model.ARIMA makes use of the statespace framework and\n",
      "is both well tested and maintained.\n",
      "\n",
      "To silence this warning and continue using ARMA and ARIMA until they are\n",
      "removed, use:\n",
      "\n",
      "import warnings\n",
      "warnings.filterwarnings('ignore', 'statsmodels.tsa.arima_model.ARMA',\n",
      "                        FutureWarning)\n",
      "warnings.filterwarnings('ignore', 'statsmodels.tsa.arima_model.ARIMA',\n",
      "                        FutureWarning)\n",
      "\n",
      "  warnings.warn(ARIMA_DEPRECATION_WARN, FutureWarning)\n"
     ]
    }
   ],
   "source": [
    "from statsmodels import api as sm\n",
    "model = sm.tsa.ARMA(X_t, order=(0, 1))"
   ]
  },
  {
   "cell_type": "code",
   "execution_count": 26,
   "metadata": {},
   "outputs": [],
   "source": [
    "results = model.fit()"
   ]
  },
  {
   "cell_type": "code",
   "execution_count": 27,
   "metadata": {},
   "outputs": [
    {
     "data": {
      "text/html": [
       "<table class=\"simpletable\">\n",
       "<caption>ARMA Model Results</caption>\n",
       "<tr>\n",
       "  <th>Dep. Variable:</th>         <td>y</td>        <th>  No. Observations:  </th>    <td>999</td>   \n",
       "</tr>\n",
       "<tr>\n",
       "  <th>Model:</th>            <td>ARMA(0, 1)</td>    <th>  Log Likelihood     </th> <td>-1456.454</td>\n",
       "</tr>\n",
       "<tr>\n",
       "  <th>Method:</th>             <td>css-mle</td>     <th>  S.D. of innovations</th>   <td>1.040</td>  \n",
       "</tr>\n",
       "<tr>\n",
       "  <th>Date:</th>          <td>Wed, 09 Feb 2022</td> <th>  AIC                </th> <td>2918.907</td> \n",
       "</tr>\n",
       "<tr>\n",
       "  <th>Time:</th>              <td>15:28:21</td>     <th>  BIC                </th> <td>2933.628</td> \n",
       "</tr>\n",
       "<tr>\n",
       "  <th>Sample:</th>                <td>0</td>        <th>  HQIC               </th> <td>2924.502</td> \n",
       "</tr>\n",
       "<tr>\n",
       "  <th></th>                       <td> </td>        <th>                     </th>     <td> </td>    \n",
       "</tr>\n",
       "</table>\n",
       "<table class=\"simpletable\">\n",
       "<tr>\n",
       "     <td></td>        <th>coef</th>     <th>std err</th>      <th>z</th>      <th>P>|z|</th>  <th>[0.025</th>    <th>0.975]</th>  \n",
       "</tr>\n",
       "<tr>\n",
       "  <th>const</th>   <td>    0.0233</td> <td>    0.017</td> <td>    1.408</td> <td> 0.159</td> <td>   -0.009</td> <td>    0.056</td>\n",
       "</tr>\n",
       "<tr>\n",
       "  <th>ma.L1.y</th> <td>   -0.4983</td> <td>    0.029</td> <td>  -17.398</td> <td> 0.000</td> <td>   -0.554</td> <td>   -0.442</td>\n",
       "</tr>\n",
       "</table>\n",
       "<table class=\"simpletable\">\n",
       "<caption>Roots</caption>\n",
       "<tr>\n",
       "    <td></td>   <th>            Real</th>  <th>         Imaginary</th> <th>         Modulus</th>  <th>        Frequency</th>\n",
       "</tr>\n",
       "<tr>\n",
       "  <th>MA.1</th> <td>           2.0067</td> <td>          +0.0000j</td> <td>           2.0067</td> <td>           0.0000</td>\n",
       "</tr>\n",
       "</table>"
      ],
      "text/plain": [
       "<class 'statsmodels.iolib.summary.Summary'>\n",
       "\"\"\"\n",
       "                              ARMA Model Results                              \n",
       "==============================================================================\n",
       "Dep. Variable:                      y   No. Observations:                  999\n",
       "Model:                     ARMA(0, 1)   Log Likelihood               -1456.454\n",
       "Method:                       css-mle   S.D. of innovations              1.040\n",
       "Date:                Wed, 09 Feb 2022   AIC                           2918.907\n",
       "Time:                        15:28:21   BIC                           2933.628\n",
       "Sample:                             0   HQIC                          2924.502\n",
       "                                                                              \n",
       "==============================================================================\n",
       "                 coef    std err          z      P>|z|      [0.025      0.975]\n",
       "------------------------------------------------------------------------------\n",
       "const          0.0233      0.017      1.408      0.159      -0.009       0.056\n",
       "ma.L1.y       -0.4983      0.029    -17.398      0.000      -0.554      -0.442\n",
       "                                    Roots                                    \n",
       "=============================================================================\n",
       "                  Real          Imaginary           Modulus         Frequency\n",
       "-----------------------------------------------------------------------------\n",
       "MA.1            2.0067           +0.0000j            2.0067            0.0000\n",
       "-----------------------------------------------------------------------------\n",
       "\"\"\""
      ]
     },
     "execution_count": 27,
     "metadata": {},
     "output_type": "execute_result"
    }
   ],
   "source": [
    "results.summary()"
   ]
  },
  {
   "cell_type": "markdown",
   "metadata": {},
   "source": [
    "Note the coefficient for `ma.L1.y` is approximately our theta value from where we created this data - the model fit it well. The constant coefficient is zero too, which indicates it \"learned\" the zero mean correctly."
   ]
  },
  {
   "cell_type": "code",
   "execution_count": 28,
   "metadata": {},
   "outputs": [],
   "source": [
    "import quandl\n",
    "\n",
    "interest_rates = quandl.get(\"RBA/F13_FOOIRATCR\")\n",
    "interest_rates = interest_rates[interest_rates.columns[0]]  # Extract the first column, whatever it is called\n",
    "interest_rates.name = \"InterestRate\"  # Rename, as the original had a long name. Hint: don't use spaces or special chars"
   ]
  },
  {
   "cell_type": "code",
   "execution_count": 29,
   "metadata": {},
   "outputs": [
    {
     "name": "stderr",
     "output_type": "stream",
     "text": [
      "/Users/yudizhou/opt/anaconda3/envs/tens/lib/python3.6/site-packages/statsmodels/tsa/arima_model.py:472: FutureWarning: \n",
      "statsmodels.tsa.arima_model.ARMA and statsmodels.tsa.arima_model.ARIMA have\n",
      "been deprecated in favor of statsmodels.tsa.arima.model.ARIMA (note the .\n",
      "between arima and model) and\n",
      "statsmodels.tsa.SARIMAX. These will be removed after the 0.12 release.\n",
      "\n",
      "statsmodels.tsa.arima.model.ARIMA makes use of the statespace framework and\n",
      "is both well tested and maintained.\n",
      "\n",
      "To silence this warning and continue using ARMA and ARIMA until they are\n",
      "removed, use:\n",
      "\n",
      "import warnings\n",
      "warnings.filterwarnings('ignore', 'statsmodels.tsa.arima_model.ARMA',\n",
      "                        FutureWarning)\n",
      "warnings.filterwarnings('ignore', 'statsmodels.tsa.arima_model.ARIMA',\n",
      "                        FutureWarning)\n",
      "\n",
      "  warnings.warn(ARIMA_DEPRECATION_WARN, FutureWarning)\n",
      "/Users/yudizhou/opt/anaconda3/envs/tens/lib/python3.6/site-packages/statsmodels/tsa/base/tsa_model.py:527: ValueWarning: No frequency information was provided, so inferred frequency M will be used.\n",
      "  % freq, ValueWarning)\n"
     ]
    }
   ],
   "source": [
    "model = sm.tsa.ARMA(interest_rates, order=(0, 1))\n",
    "interest_results = model.fit()"
   ]
  },
  {
   "cell_type": "code",
   "execution_count": 30,
   "metadata": {},
   "outputs": [
    {
     "data": {
      "text/html": [
       "<table class=\"simpletable\">\n",
       "<caption>ARMA Model Results</caption>\n",
       "<tr>\n",
       "  <th>Dep. Variable:</th>   <td>InterestRate</td>   <th>  No. Observations:  </th>    <td>378</td>  \n",
       "</tr>\n",
       "<tr>\n",
       "  <th>Model:</th>            <td>ARMA(0, 1)</td>    <th>  Log Likelihood     </th> <td>-709.234</td>\n",
       "</tr>\n",
       "<tr>\n",
       "  <th>Method:</th>             <td>css-mle</td>     <th>  S.D. of innovations</th>   <td>1.576</td> \n",
       "</tr>\n",
       "<tr>\n",
       "  <th>Date:</th>          <td>Wed, 09 Feb 2022</td> <th>  AIC                </th> <td>1424.468</td>\n",
       "</tr>\n",
       "<tr>\n",
       "  <th>Time:</th>              <td>15:28:32</td>     <th>  BIC                </th> <td>1436.273</td>\n",
       "</tr>\n",
       "<tr>\n",
       "  <th>Sample:</th>           <td>01-31-1990</td>    <th>  HQIC               </th> <td>1429.153</td>\n",
       "</tr>\n",
       "<tr>\n",
       "  <th></th>                 <td>- 06-30-2021</td>   <th>                     </th>     <td> </td>   \n",
       "</tr>\n",
       "</table>\n",
       "<table class=\"simpletable\">\n",
       "<tr>\n",
       "           <td></td>             <th>coef</th>     <th>std err</th>      <th>z</th>      <th>P>|z|</th>  <th>[0.025</th>    <th>0.975]</th>  \n",
       "</tr>\n",
       "<tr>\n",
       "  <th>const</th>              <td>    4.8175</td> <td>    0.155</td> <td>   31.031</td> <td> 0.000</td> <td>    4.513</td> <td>    5.122</td>\n",
       "</tr>\n",
       "<tr>\n",
       "  <th>ma.L1.InterestRate</th> <td>    0.9176</td> <td>    0.014</td> <td>   63.839</td> <td> 0.000</td> <td>    0.889</td> <td>    0.946</td>\n",
       "</tr>\n",
       "</table>\n",
       "<table class=\"simpletable\">\n",
       "<caption>Roots</caption>\n",
       "<tr>\n",
       "    <td></td>   <th>            Real</th>  <th>         Imaginary</th> <th>         Modulus</th>  <th>        Frequency</th>\n",
       "</tr>\n",
       "<tr>\n",
       "  <th>MA.1</th> <td>          -1.0898</td> <td>          +0.0000j</td> <td>           1.0898</td> <td>           0.5000</td>\n",
       "</tr>\n",
       "</table>"
      ],
      "text/plain": [
       "<class 'statsmodels.iolib.summary.Summary'>\n",
       "\"\"\"\n",
       "                              ARMA Model Results                              \n",
       "==============================================================================\n",
       "Dep. Variable:           InterestRate   No. Observations:                  378\n",
       "Model:                     ARMA(0, 1)   Log Likelihood                -709.234\n",
       "Method:                       css-mle   S.D. of innovations              1.576\n",
       "Date:                Wed, 09 Feb 2022   AIC                           1424.468\n",
       "Time:                        15:28:32   BIC                           1436.273\n",
       "Sample:                    01-31-1990   HQIC                          1429.153\n",
       "                         - 06-30-2021                                         \n",
       "======================================================================================\n",
       "                         coef    std err          z      P>|z|      [0.025      0.975]\n",
       "--------------------------------------------------------------------------------------\n",
       "const                  4.8175      0.155     31.031      0.000       4.513       5.122\n",
       "ma.L1.InterestRate     0.9176      0.014     63.839      0.000       0.889       0.946\n",
       "                                    Roots                                    \n",
       "=============================================================================\n",
       "                  Real          Imaginary           Modulus         Frequency\n",
       "-----------------------------------------------------------------------------\n",
       "MA.1           -1.0898           +0.0000j            1.0898            0.5000\n",
       "-----------------------------------------------------------------------------\n",
       "\"\"\""
      ]
     },
     "execution_count": 30,
     "metadata": {},
     "output_type": "execute_result"
    }
   ],
   "source": [
    "interest_results.summary()"
   ]
  },
  {
   "cell_type": "markdown",
   "metadata": {},
   "source": [
    "#### Exercises\n",
    "\n",
    "1. Fit an MA model to a stock price (the solution uses AAPL).\n",
    "2. What are the coefficients on the constant and lag? What does this mean?\n",
    "3. Fit the model on the change in stock price, rather than the actual price.\n",
    "4. What are the coefficients, and how does that relate to the change in price?\n",
    "\n",
    "\n",
    "#### Extended Exercise\n",
    "\n",
    "We are going to drill right down now into a small dataset and observe how a $\\epsilon$ value changes the result of the MA(1) model. Create a small dataset of just ten $\\epsilon$ values of random 0s and 1s. Visualise the resulting MA model with a theta value of 0.5, -0.5, 2, -2, 100 and -100. Observe how runs of 0s and 1s are affected, and how a value affects the next time period in the series."
   ]
  },
  {
   "cell_type": "code",
   "execution_count": 36,
   "metadata": {},
   "outputs": [
    {
     "name": "stderr",
     "output_type": "stream",
     "text": [
      "/Users/yudizhou/opt/anaconda3/envs/tens/lib/python3.6/site-packages/statsmodels/tsa/arima_model.py:472: FutureWarning: \n",
      "statsmodels.tsa.arima_model.ARMA and statsmodels.tsa.arima_model.ARIMA have\n",
      "been deprecated in favor of statsmodels.tsa.arima.model.ARIMA (note the .\n",
      "between arima and model) and\n",
      "statsmodels.tsa.SARIMAX. These will be removed after the 0.12 release.\n",
      "\n",
      "statsmodels.tsa.arima.model.ARIMA makes use of the statespace framework and\n",
      "is both well tested and maintained.\n",
      "\n",
      "To silence this warning and continue using ARMA and ARIMA until they are\n",
      "removed, use:\n",
      "\n",
      "import warnings\n",
      "warnings.filterwarnings('ignore', 'statsmodels.tsa.arima_model.ARMA',\n",
      "                        FutureWarning)\n",
      "warnings.filterwarnings('ignore', 'statsmodels.tsa.arima_model.ARIMA',\n",
      "                        FutureWarning)\n",
      "\n",
      "  warnings.warn(ARIMA_DEPRECATION_WARN, FutureWarning)\n"
     ]
    },
    {
     "data": {
      "text/html": [
       "<table class=\"simpletable\">\n",
       "<caption>ARMA Model Results</caption>\n",
       "<tr>\n",
       "  <th>Dep. Variable:</th>     <td>adj_close</td>    <th>  No. Observations:  </th>    <td>309</td>  \n",
       "</tr>\n",
       "<tr>\n",
       "  <th>Model:</th>            <td>ARMA(0, 1)</td>    <th>  Log Likelihood     </th> <td>-163.769</td>\n",
       "</tr>\n",
       "<tr>\n",
       "  <th>Method:</th>             <td>css-mle</td>     <th>  S.D. of innovations</th>   <td>0.410</td> \n",
       "</tr>\n",
       "<tr>\n",
       "  <th>Date:</th>          <td>Wed, 09 Feb 2022</td> <th>  AIC                </th>  <td>333.538</td>\n",
       "</tr>\n",
       "<tr>\n",
       "  <th>Time:</th>              <td>16:08:07</td>     <th>  BIC                </th>  <td>344.738</td>\n",
       "</tr>\n",
       "<tr>\n",
       "  <th>Sample:</th>                <td>0</td>        <th>  HQIC               </th>  <td>338.016</td>\n",
       "</tr>\n",
       "<tr>\n",
       "  <th></th>                       <td> </td>        <th>                     </th>     <td> </td>   \n",
       "</tr>\n",
       "</table>\n",
       "<table class=\"simpletable\">\n",
       "<tr>\n",
       "         <td></td>            <th>coef</th>     <th>std err</th>      <th>z</th>      <th>P>|z|</th>  <th>[0.025</th>    <th>0.975]</th>  \n",
       "</tr>\n",
       "<tr>\n",
       "  <th>const</th>           <td>   11.4920</td> <td>    0.044</td> <td>  263.203</td> <td> 0.000</td> <td>   11.406</td> <td>   11.578</td>\n",
       "</tr>\n",
       "<tr>\n",
       "  <th>ma.L1.adj_close</th> <td>    0.8742</td> <td>    0.022</td> <td>   40.404</td> <td> 0.000</td> <td>    0.832</td> <td>    0.917</td>\n",
       "</tr>\n",
       "</table>\n",
       "<table class=\"simpletable\">\n",
       "<caption>Roots</caption>\n",
       "<tr>\n",
       "    <td></td>   <th>            Real</th>  <th>         Imaginary</th> <th>         Modulus</th>  <th>        Frequency</th>\n",
       "</tr>\n",
       "<tr>\n",
       "  <th>MA.1</th> <td>          -1.1439</td> <td>          +0.0000j</td> <td>           1.1439</td> <td>           0.5000</td>\n",
       "</tr>\n",
       "</table>"
      ],
      "text/plain": [
       "<class 'statsmodels.iolib.summary.Summary'>\n",
       "\"\"\"\n",
       "                              ARMA Model Results                              \n",
       "==============================================================================\n",
       "Dep. Variable:              adj_close   No. Observations:                  309\n",
       "Model:                     ARMA(0, 1)   Log Likelihood                -163.769\n",
       "Method:                       css-mle   S.D. of innovations              0.410\n",
       "Date:                Wed, 09 Feb 2022   AIC                            333.538\n",
       "Time:                        16:08:07   BIC                            344.738\n",
       "Sample:                             0   HQIC                           338.016\n",
       "                                                                              \n",
       "===================================================================================\n",
       "                      coef    std err          z      P>|z|      [0.025      0.975]\n",
       "-----------------------------------------------------------------------------------\n",
       "const              11.4920      0.044    263.203      0.000      11.406      11.578\n",
       "ma.L1.adj_close     0.8742      0.022     40.404      0.000       0.832       0.917\n",
       "                                    Roots                                    \n",
       "=============================================================================\n",
       "                  Real          Imaginary           Modulus         Frequency\n",
       "-----------------------------------------------------------------------------\n",
       "MA.1           -1.1439           +0.0000j            1.1439            0.5000\n",
       "-----------------------------------------------------------------------------\n",
       "\"\"\""
      ]
     },
     "metadata": {},
     "output_type": "display_data"
    },
    {
     "name": "stderr",
     "output_type": "stream",
     "text": [
      "/Users/yudizhou/opt/anaconda3/envs/tens/lib/python3.6/site-packages/statsmodels/tsa/arima_model.py:472: FutureWarning: \n",
      "statsmodels.tsa.arima_model.ARMA and statsmodels.tsa.arima_model.ARIMA have\n",
      "been deprecated in favor of statsmodels.tsa.arima.model.ARIMA (note the .\n",
      "between arima and model) and\n",
      "statsmodels.tsa.SARIMAX. These will be removed after the 0.12 release.\n",
      "\n",
      "statsmodels.tsa.arima.model.ARIMA makes use of the statespace framework and\n",
      "is both well tested and maintained.\n",
      "\n",
      "To silence this warning and continue using ARMA and ARIMA until they are\n",
      "removed, use:\n",
      "\n",
      "import warnings\n",
      "warnings.filterwarnings('ignore', 'statsmodels.tsa.arima_model.ARMA',\n",
      "                        FutureWarning)\n",
      "warnings.filterwarnings('ignore', 'statsmodels.tsa.arima_model.ARIMA',\n",
      "                        FutureWarning)\n",
      "\n",
      "  warnings.warn(ARIMA_DEPRECATION_WARN, FutureWarning)\n",
      "/Users/yudizhou/opt/anaconda3/envs/tens/lib/python3.6/site-packages/statsmodels/tsa/base/tsa_model.py:579: ValueWarning: An unsupported index was provided and will be ignored when e.g. forecasting.\n",
      "  ' ignored when e.g. forecasting.', ValueWarning)\n"
     ]
    },
    {
     "data": {
      "text/html": [
       "<table class=\"simpletable\">\n",
       "<caption>ARMA Model Results</caption>\n",
       "<tr>\n",
       "  <th>Dep. Variable:</th>     <td>adj_close</td>    <th>  No. Observations:  </th>    <td>308</td>  \n",
       "</tr>\n",
       "<tr>\n",
       "  <th>Model:</th>            <td>ARMA(0, 1)</td>    <th>  Log Likelihood     </th>  <td>146.426</td>\n",
       "</tr>\n",
       "<tr>\n",
       "  <th>Method:</th>             <td>css-mle</td>     <th>  S.D. of innovations</th>   <td>0.150</td> \n",
       "</tr>\n",
       "<tr>\n",
       "  <th>Date:</th>          <td>Wed, 09 Feb 2022</td> <th>  AIC                </th> <td>-286.852</td>\n",
       "</tr>\n",
       "<tr>\n",
       "  <th>Time:</th>              <td>16:08:07</td>     <th>  BIC                </th> <td>-275.662</td>\n",
       "</tr>\n",
       "<tr>\n",
       "  <th>Sample:</th>                <td>0</td>        <th>  HQIC               </th> <td>-282.378</td>\n",
       "</tr>\n",
       "<tr>\n",
       "  <th></th>                       <td> </td>        <th>                     </th>     <td> </td>   \n",
       "</tr>\n",
       "</table>\n",
       "<table class=\"simpletable\">\n",
       "<tr>\n",
       "         <td></td>            <th>coef</th>     <th>std err</th>      <th>z</th>      <th>P>|z|</th>  <th>[0.025</th>    <th>0.975]</th>  \n",
       "</tr>\n",
       "<tr>\n",
       "  <th>const</th>           <td>    0.0037</td> <td>    0.008</td> <td>    0.458</td> <td> 0.647</td> <td>   -0.012</td> <td>    0.019</td>\n",
       "</tr>\n",
       "<tr>\n",
       "  <th>ma.L1.adj_close</th> <td>   -0.0668</td> <td>    0.057</td> <td>   -1.177</td> <td> 0.239</td> <td>   -0.178</td> <td>    0.044</td>\n",
       "</tr>\n",
       "</table>\n",
       "<table class=\"simpletable\">\n",
       "<caption>Roots</caption>\n",
       "<tr>\n",
       "    <td></td>   <th>            Real</th>  <th>         Imaginary</th> <th>         Modulus</th>  <th>        Frequency</th>\n",
       "</tr>\n",
       "<tr>\n",
       "  <th>MA.1</th> <td>          14.9806</td> <td>          +0.0000j</td> <td>          14.9806</td> <td>           0.0000</td>\n",
       "</tr>\n",
       "</table>"
      ],
      "text/plain": [
       "<class 'statsmodels.iolib.summary.Summary'>\n",
       "\"\"\"\n",
       "                              ARMA Model Results                              \n",
       "==============================================================================\n",
       "Dep. Variable:              adj_close   No. Observations:                  308\n",
       "Model:                     ARMA(0, 1)   Log Likelihood                 146.426\n",
       "Method:                       css-mle   S.D. of innovations              0.150\n",
       "Date:                Wed, 09 Feb 2022   AIC                           -286.852\n",
       "Time:                        16:08:07   BIC                           -275.662\n",
       "Sample:                             0   HQIC                          -282.378\n",
       "                                                                              \n",
       "===================================================================================\n",
       "                      coef    std err          z      P>|z|      [0.025      0.975]\n",
       "-----------------------------------------------------------------------------------\n",
       "const               0.0037      0.008      0.458      0.647      -0.012       0.019\n",
       "ma.L1.adj_close    -0.0668      0.057     -1.177      0.239      -0.178       0.044\n",
       "                                    Roots                                    \n",
       "=============================================================================\n",
       "                  Real          Imaginary           Modulus         Frequency\n",
       "-----------------------------------------------------------------------------\n",
       "MA.1           14.9806           +0.0000j           14.9806            0.0000\n",
       "-----------------------------------------------------------------------------\n",
       "\"\"\""
      ]
     },
     "metadata": {},
     "output_type": "display_data"
    }
   ],
   "source": [
    "import my_secrets\n",
    "quandl.ApiConfig.api_key = my_secrets.QUANDL_API_KEY\n",
    "\n",
    "stk = quandl.get_table('WIKI/PRICES', ticker = ['F'], \n",
    "                        qopts = { 'columns': ['adj_close'] }, \n",
    "                        date = { 'gte': '2017-01-01', 'lte': '2019-01-01' }, \n",
    "                        paginate=True)\n",
    "model = sm.tsa.ARMA(stk, order=(0,1))\n",
    "stk_results= model.fit()\n",
    "display(stk_results.summary())\n",
    "# as we can see that the coefficient on the constant is greater than 0 therefore it means there\n",
    "# is a drift upward trend within process of this price\n",
    "chg = stk['adj_close'].diff().dropna()\n",
    "model = sm.tsa.ARMA(chg, order=(0,1))\n",
    "chg_results= model.fit()\n",
    "display(chg_results.summary())\n",
    "# unlike the stock price, the change in price has a close to 0 drift meaning that the expectation of \n",
    "# change of price is close to 0.\n"
   ]
  },
  {
   "cell_type": "markdown",
   "metadata": {},
   "source": [
    "*For solutions, see `solutions/ma_model.py`*"
   ]
  },
  {
   "cell_type": "markdown",
   "metadata": {},
   "source": [
    "### Properties of MA(1)\n",
    "\n",
    "We can identify that the MA(1) process has an expected value of zero. Because the $\\epsilon$ terms are iid with a mean of 0, the expected value for these values is 0. This gives us:\n",
    "\n",
    "$E[X_t] = E[\\epsilon_t + \\theta \\epsilon_{t-1}] = E[\\epsilon_t] + \\theta E[\\epsilon_{t-1}] = 0$\n",
    "\n",
    "Also note that $\\theta$ is constant, and when you have a constant it can be taken out of the $E$. So, for constant $\\theta$:\n",
    "\n",
    "$E[\\theta \\epsilon] = \\theta E[\\epsilon]$\n",
    "\n",
    "Next, we know the variance of $X_t$, again, because the values of $\\epsilon$ are iid, with a mean of 0, and a standard deviation of $\\sigma^2$ (from the definition). This gives us:\n",
    "\n",
    "$Var(X_t) = Var(\\epsilon_{t} + \\theta \\epsilon_{t-1} = Var(\\epsilon_{t}) + \\theta^2 Var(\\epsilon_{t-1})$\n",
    "\n",
    "Plugging in the known $Var(\\epsilon_{t}) = \\sigma^2$ gives us:\n",
    "\n",
    "$Var(X_t) = \\sigma^2 + \\theta^2\\sigma^2 = \\sigma^2(1 + \\theta^2)$\n",
    "\n",
    "Finally, we could intuitively guess that the covariance at lagged intervales would approximate 0 for lags larger than the period of the MA model. More formally, if $i > 1$, then :\n",
    "\n",
    "$Cov(X_t, X_{t-i}) = Cov(\\epsilon_{t} + \\theta\\epsilon_{t-1}, \\epsilon_{t-i} + \\theta\\epsilon_{t-i-i}) = 0$\n",
    "\n",
    "This is because $\\epsilon_{t}$ is iid (sidenote: this is a very useful property in statistics!) and there are no terms overlapping between the two $X$ lags being computed on. However, when $i=1$ there is an overlap, and the covariance is no longer 0:\n",
    "\n",
    "$Cov(X_t, X_{t-1}) = Cov(\\epsilon_{t} + \\theta\\epsilon_{t-1}, \\epsilon_{t-1} + \\theta\\epsilon_{t-2})$\n",
    "\n",
    "Once more, as $\\epsilon_{t}$ is iid, when we expand this covariance, we only need to evaluate $Cov(\\theta\\epsilon_{t-1}, \\epsilon_{t-1})$ as $Cov(\\epsilon_{t}, \\epsilon_{t+h})=0$ whenever $h \\neq 0$.\n",
    "\n",
    "$Cov(X_t, X_{t-1}) = \\theta Cov(\\epsilon_{t-1}, \\epsilon_{t-1}) = \\theta \\sigma^2$\n",
    "\n",
    "As $Cov(X_t, X_t+h)$ only depends on $h$ (i.e. only the lag matters, not when it was), the covariance doesn't change with time.\n",
    "\n",
    "These three properties indicate that the MA(1) process is stationary. A property we will look at further in the next module."
   ]
  },
  {
   "cell_type": "markdown",
   "metadata": {},
   "source": [
    "#### Extended Exercise\n",
    "\n",
    "1. Does an MA(2) model have an expected value of 0?\n",
    "2. Does an MA(2) model have a covariance tending to 0 with increasing time lags?"
   ]
  },
  {
   "cell_type": "code",
   "execution_count": null,
   "metadata": {},
   "outputs": [],
   "source": [
    "#1. Yes, all terms of epsilon have expectation of 0\n",
    "#2. Also true."
   ]
  }
 ],
 "metadata": {
  "kernelspec": {
   "display_name": "Python 3",
   "language": "python",
   "name": "python3"
  },
  "language_info": {
   "codemirror_mode": {
    "name": "ipython",
    "version": 3
   },
   "file_extension": ".py",
   "mimetype": "text/x-python",
   "name": "python",
   "nbconvert_exporter": "python",
   "pygments_lexer": "ipython3",
   "version": "3.6.10"
  }
 },
 "nbformat": 4,
 "nbformat_minor": 2
}
